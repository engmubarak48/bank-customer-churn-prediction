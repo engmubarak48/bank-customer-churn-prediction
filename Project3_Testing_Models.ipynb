{
 "cells": [
  {
   "cell_type": "code",
   "execution_count": null,
   "metadata": {},
   "outputs": [],
   "source": [
    "import warnings\n",
    "warnings.filterwarnings(\"ignore\")\n",
    "\n",
    "import pandas as pd\n",
    "from sklearn.model_selection import train_test_split\n",
    "from sklearn.preprocessing import StandardScaler\n",
    "from imblearn.over_sampling import SMOTE\n",
    "import matplotlib.pyplot as plt\n",
    "\n",
    "import numpy as np"
   ]
  },
  {
   "cell_type": "markdown",
   "metadata": {},
   "source": [
    "**Loading previously cleaned datset**"
   ]
  },
  {
   "cell_type": "code",
   "execution_count": 19,
   "metadata": {},
   "outputs": [],
   "source": [
    "train = pd.read_csv('UmojaHack/Train.csv')\n",
    "test = pd.read_csv('UmojaHack/Test.csv')\n",
    "submission_file = pd.read_csv('UmojaHack/SampleSubmission.csv')\n",
    "describtion = pd.read_csv('UmojaHack/VariableDefinitions.csv') "
   ]
  },
  {
   "cell_type": "code",
   "execution_count": 20,
   "metadata": {},
   "outputs": [
    {
     "name": "stdout",
     "output_type": "stream",
     "text": [
      "(2154048, 19)\n"
     ]
    },
    {
     "data": {
      "text/plain": [
       "(1419875, 19)"
      ]
     },
     "execution_count": 20,
     "metadata": {},
     "output_type": "execute_result"
    }
   ],
   "source": [
    "print(train.shape)\n",
    "train = train.dropna(thresh=9)\n",
    "train.shape"
   ]
  },
  {
   "cell_type": "code",
   "execution_count": 21,
   "metadata": {},
   "outputs": [
    {
     "data": {
      "text/html": [
       "<div>\n",
       "<style scoped>\n",
       "    .dataframe tbody tr th:only-of-type {\n",
       "        vertical-align: middle;\n",
       "    }\n",
       "\n",
       "    .dataframe tbody tr th {\n",
       "        vertical-align: top;\n",
       "    }\n",
       "\n",
       "    .dataframe thead th {\n",
       "        text-align: right;\n",
       "    }\n",
       "</style>\n",
       "<table border=\"1\" class=\"dataframe\">\n",
       "  <thead>\n",
       "    <tr style=\"text-align: right;\">\n",
       "      <th></th>\n",
       "      <th>Total</th>\n",
       "      <th>Percent</th>\n",
       "    </tr>\n",
       "  </thead>\n",
       "  <tbody>\n",
       "    <tr>\n",
       "      <td>ZONE2</td>\n",
       "      <td>1283134</td>\n",
       "      <td>0.903695</td>\n",
       "    </tr>\n",
       "    <tr>\n",
       "      <td>ZONE1</td>\n",
       "      <td>1254728</td>\n",
       "      <td>0.883689</td>\n",
       "    </tr>\n",
       "    <tr>\n",
       "      <td>TIGO</td>\n",
       "      <td>557945</td>\n",
       "      <td>0.392954</td>\n",
       "    </tr>\n",
       "    <tr>\n",
       "      <td>DATA_VOLUME</td>\n",
       "      <td>466460</td>\n",
       "      <td>0.328522</td>\n",
       "    </tr>\n",
       "    <tr>\n",
       "      <td>REGION</td>\n",
       "      <td>303675</td>\n",
       "      <td>0.213874</td>\n",
       "    </tr>\n",
       "    <tr>\n",
       "      <td>ORANGE</td>\n",
       "      <td>168874</td>\n",
       "      <td>0.118936</td>\n",
       "    </tr>\n",
       "    <tr>\n",
       "      <td>TOP_PACK</td>\n",
       "      <td>168478</td>\n",
       "      <td>0.118657</td>\n",
       "    </tr>\n",
       "    <tr>\n",
       "      <td>FREQ_TOP_PACK</td>\n",
       "      <td>168478</td>\n",
       "      <td>0.118657</td>\n",
       "    </tr>\n",
       "    <tr>\n",
       "      <td>ON_NET</td>\n",
       "      <td>157321</td>\n",
       "      <td>0.110799</td>\n",
       "    </tr>\n",
       "    <tr>\n",
       "      <td>MONTANT</td>\n",
       "      <td>40924</td>\n",
       "      <td>0.028822</td>\n",
       "    </tr>\n",
       "    <tr>\n",
       "      <td>FREQUENCE_RECH</td>\n",
       "      <td>40924</td>\n",
       "      <td>0.028822</td>\n",
       "    </tr>\n",
       "    <tr>\n",
       "      <td>FREQUENCE</td>\n",
       "      <td>9887</td>\n",
       "      <td>0.006963</td>\n",
       "    </tr>\n",
       "    <tr>\n",
       "      <td>ARPU_SEGMENT</td>\n",
       "      <td>9887</td>\n",
       "      <td>0.006963</td>\n",
       "    </tr>\n",
       "    <tr>\n",
       "      <td>REVENUE</td>\n",
       "      <td>9887</td>\n",
       "      <td>0.006963</td>\n",
       "    </tr>\n",
       "  </tbody>\n",
       "</table>\n",
       "</div>"
      ],
      "text/plain": [
       "                  Total   Percent\n",
       "ZONE2           1283134  0.903695\n",
       "ZONE1           1254728  0.883689\n",
       "TIGO             557945  0.392954\n",
       "DATA_VOLUME      466460  0.328522\n",
       "REGION           303675  0.213874\n",
       "ORANGE           168874  0.118936\n",
       "TOP_PACK         168478  0.118657\n",
       "FREQ_TOP_PACK    168478  0.118657\n",
       "ON_NET           157321  0.110799\n",
       "MONTANT           40924  0.028822\n",
       "FREQUENCE_RECH    40924  0.028822\n",
       "FREQUENCE          9887  0.006963\n",
       "ARPU_SEGMENT       9887  0.006963\n",
       "REVENUE            9887  0.006963"
      ]
     },
     "execution_count": 21,
     "metadata": {},
     "output_type": "execute_result"
    }
   ],
   "source": [
    "total = train.isnull().sum().sort_values(ascending=False)\n",
    "percent = (train.isnull().sum()/train.isnull().count()).sort_values(ascending=False)\n",
    "missing_data = pd.concat([total, percent], axis=1, keys=['Total', 'Percent'])\n",
    "missing_data[missing_data.Total > 0]"
   ]
  },
  {
   "cell_type": "code",
   "execution_count": 22,
   "metadata": {},
   "outputs": [
    {
     "data": {
      "text/html": [
       "<div>\n",
       "<style scoped>\n",
       "    .dataframe tbody tr th:only-of-type {\n",
       "        vertical-align: middle;\n",
       "    }\n",
       "\n",
       "    .dataframe tbody tr th {\n",
       "        vertical-align: top;\n",
       "    }\n",
       "\n",
       "    .dataframe thead th {\n",
       "        text-align: right;\n",
       "    }\n",
       "</style>\n",
       "<table border=\"1\" class=\"dataframe\">\n",
       "  <thead>\n",
       "    <tr style=\"text-align: right;\">\n",
       "      <th></th>\n",
       "      <th>Total</th>\n",
       "      <th>Percent</th>\n",
       "    </tr>\n",
       "  </thead>\n",
       "  <tbody>\n",
       "    <tr>\n",
       "      <td>ZONE2</td>\n",
       "      <td>356051</td>\n",
       "      <td>0.936663</td>\n",
       "    </tr>\n",
       "    <tr>\n",
       "      <td>ZONE1</td>\n",
       "      <td>350266</td>\n",
       "      <td>0.921445</td>\n",
       "    </tr>\n",
       "    <tr>\n",
       "      <td>TIGO</td>\n",
       "      <td>227001</td>\n",
       "      <td>0.597171</td>\n",
       "    </tr>\n",
       "    <tr>\n",
       "      <td>DATA_VOLUME</td>\n",
       "      <td>187040</td>\n",
       "      <td>0.492046</td>\n",
       "    </tr>\n",
       "    <tr>\n",
       "      <td>TOP_PACK</td>\n",
       "      <td>158779</td>\n",
       "      <td>0.417700</td>\n",
       "    </tr>\n",
       "    <tr>\n",
       "      <td>FREQ_TOP_PACK</td>\n",
       "      <td>158779</td>\n",
       "      <td>0.417700</td>\n",
       "    </tr>\n",
       "    <tr>\n",
       "      <td>ORANGE</td>\n",
       "      <td>157230</td>\n",
       "      <td>0.413625</td>\n",
       "    </tr>\n",
       "    <tr>\n",
       "      <td>REGION</td>\n",
       "      <td>149728</td>\n",
       "      <td>0.393889</td>\n",
       "    </tr>\n",
       "    <tr>\n",
       "      <td>ON_NET</td>\n",
       "      <td>138514</td>\n",
       "      <td>0.364389</td>\n",
       "    </tr>\n",
       "    <tr>\n",
       "      <td>FREQUENCE_RECH</td>\n",
       "      <td>133055</td>\n",
       "      <td>0.350028</td>\n",
       "    </tr>\n",
       "    <tr>\n",
       "      <td>MONTANT</td>\n",
       "      <td>133055</td>\n",
       "      <td>0.350028</td>\n",
       "    </tr>\n",
       "    <tr>\n",
       "      <td>FREQUENCE</td>\n",
       "      <td>127373</td>\n",
       "      <td>0.335080</td>\n",
       "    </tr>\n",
       "    <tr>\n",
       "      <td>ARPU_SEGMENT</td>\n",
       "      <td>127373</td>\n",
       "      <td>0.335080</td>\n",
       "    </tr>\n",
       "    <tr>\n",
       "      <td>REVENUE</td>\n",
       "      <td>127373</td>\n",
       "      <td>0.335080</td>\n",
       "    </tr>\n",
       "  </tbody>\n",
       "</table>\n",
       "</div>"
      ],
      "text/plain": [
       "                 Total   Percent\n",
       "ZONE2           356051  0.936663\n",
       "ZONE1           350266  0.921445\n",
       "TIGO            227001  0.597171\n",
       "DATA_VOLUME     187040  0.492046\n",
       "TOP_PACK        158779  0.417700\n",
       "FREQ_TOP_PACK   158779  0.417700\n",
       "ORANGE          157230  0.413625\n",
       "REGION          149728  0.393889\n",
       "ON_NET          138514  0.364389\n",
       "FREQUENCE_RECH  133055  0.350028\n",
       "MONTANT         133055  0.350028\n",
       "FREQUENCE       127373  0.335080\n",
       "ARPU_SEGMENT    127373  0.335080\n",
       "REVENUE         127373  0.335080"
      ]
     },
     "execution_count": 22,
     "metadata": {},
     "output_type": "execute_result"
    }
   ],
   "source": [
    "total = test.isnull().sum().sort_values(ascending=False)\n",
    "percent = (test.isnull().sum()/test.isnull().count()).sort_values(ascending=False)\n",
    "missing_data = pd.concat([total, percent], axis=1, keys=['Total', 'Percent'])\n",
    "missing_data[missing_data.Total > 0]"
   ]
  },
  {
   "cell_type": "code",
   "execution_count": null,
   "metadata": {},
   "outputs": [],
   "source": []
  },
  {
   "cell_type": "code",
   "execution_count": null,
   "metadata": {},
   "outputs": [],
   "source": [
    "# train.CHURN.value_counts().sort_index().plot.bar()"
   ]
  },
  {
   "cell_type": "code",
   "execution_count": null,
   "metadata": {},
   "outputs": [],
   "source": [
    "# ax2 = train[['DATA_VOLUME', 'REGULARITY']].dropna().plot.scatter(x='DATA_VOLUME', y='REGULARITY')"
   ]
  },
  {
   "cell_type": "code",
   "execution_count": null,
   "metadata": {},
   "outputs": [],
   "source": [
    "# train[['DATA_VOLUME']].plot.hist(bins=10, alpha=0.8)\n",
    "# value_to_fill = train[['DATA_VOLUME']].describe().loc['50%'].values[0]\n",
    "# mean_ = np.log(round(train[['DATA_VOLUME']].mean()[0]))\n",
    "# mean_FREQ = round(np.log(train[['FREQ_TOP_PACK']].dropna().values).mean(), 2)\n",
    "\n",
    "\n",
    "# fill_list = list(train[['DATA_VOLUME']].dropna().values.reshape(-1))\n",
    "\n",
    "# m = train['DATA_VOLUME'].isnull()\n",
    "# #set NaNs values\n",
    "# # train.loc[m, 'DATA_VOLUME'] = np.random.choice(fill_list, size=m.sum())\n",
    "# train['DATA_VOLUME'] = np.log(1+train[['DATA_VOLUME']])\n",
    "\n",
    "# counts, bins = np.histogram(train[['DATA_VOLUME']])\n",
    "# plt.hist(bins[:-1], bins, weights=counts)\n"
   ]
  },
  {
   "cell_type": "code",
   "execution_count": 23,
   "metadata": {},
   "outputs": [],
   "source": [
    "train = train.drop(['user_id', 'MRG', 'ZONE2', 'ZONE1', 'TOP_PACK'], axis = 1)\n",
    "test = test.drop(['user_id', 'MRG', 'ZONE2', 'ZONE1', 'TOP_PACK'], axis = 1)\n",
    "\n",
    "def prep(train):\n",
    "    feat_operator = train[['ON_NET', 'ORANGE', 'TIGO']]\n",
    "    feat_operator = feat_operator.apply(lambda x:x.fillna(x.value_counts().index[0]))\n",
    "    train[['ON_NET', 'ORANGE', 'TIGO']] = feat_operator\n",
    "    #------------------------------------------\n",
    "    columns_means = ['MONTANT', 'FREQUENCE_RECH', 'FREQUENCE', 'REVENUE', 'FREQ_TOP_PACK']\n",
    "\n",
    "    for column_mean in columns_means:\n",
    "        mean_rev = round(np.log(train[[column_mean]].mean()[0]), 2)\n",
    "        train[column_mean] = np.log(train[[column_mean]].fillna(mean_rev))\n",
    "    #-------------------------------------\n",
    "    mean_rev = round(np.log(1+train[['ARPU_SEGMENT']].mean()[0]), 2)\n",
    "    train['ARPU_SEGMENT'] = np.log(1+train[['ARPU_SEGMENT']].fillna(mean_rev))\n",
    "\n",
    "    train['REGION'] = train[['REGION']].fillna('unknown')\n",
    "\n",
    "    fill_list = list(train[['DATA_VOLUME']].dropna().values.reshape(-1))\n",
    "\n",
    "    m = train['DATA_VOLUME'].isnull()\n",
    "    #set NaNs values\n",
    "    train.loc[m, 'DATA_VOLUME'] = np.random.choice(fill_list, size=m.sum())\n",
    "    train['DATA_VOLUME'] = np.log(1+train[['DATA_VOLUME']])\n",
    "    return train\n",
    "\n",
    "train = prep(train)\n",
    "test = prep(test)\n",
    "    \n",
    "# train['REGION'].value_counts().sort_index().plot.bar()\n",
    "\n",
    "# counts, bins = np.histogram(train[['FREQUENCE_RECH']])\n",
    "# plt.hist(bins[:-1], bins, weights=counts)"
   ]
  },
  {
   "cell_type": "code",
   "execution_count": 24,
   "metadata": {},
   "outputs": [
    {
     "data": {
      "text/html": [
       "<div>\n",
       "<style scoped>\n",
       "    .dataframe tbody tr th:only-of-type {\n",
       "        vertical-align: middle;\n",
       "    }\n",
       "\n",
       "    .dataframe tbody tr th {\n",
       "        vertical-align: top;\n",
       "    }\n",
       "\n",
       "    .dataframe thead th {\n",
       "        text-align: right;\n",
       "    }\n",
       "</style>\n",
       "<table border=\"1\" class=\"dataframe\">\n",
       "  <thead>\n",
       "    <tr style=\"text-align: right;\">\n",
       "      <th></th>\n",
       "      <th>Total</th>\n",
       "      <th>Percent</th>\n",
       "    </tr>\n",
       "  </thead>\n",
       "  <tbody>\n",
       "  </tbody>\n",
       "</table>\n",
       "</div>"
      ],
      "text/plain": [
       "Empty DataFrame\n",
       "Columns: [Total, Percent]\n",
       "Index: []"
      ]
     },
     "execution_count": 24,
     "metadata": {},
     "output_type": "execute_result"
    }
   ],
   "source": [
    "total = train.isnull().sum().sort_values(ascending=False)\n",
    "percent = (train.isnull().sum()/train.isnull().count()).sort_values(ascending=False)\n",
    "missing_data = pd.concat([total, percent], axis=1, keys=['Total', 'Percent'])\n",
    "missing_data[missing_data.Total > 0]"
   ]
  },
  {
   "cell_type": "code",
   "execution_count": 25,
   "metadata": {},
   "outputs": [],
   "source": [
    "train_one = pd.get_dummies(train[['TENURE', 'REGION']], prefix='o')\n",
    "test_one = pd.get_dummies(test[['TENURE', 'REGION']], prefix='o')\n",
    "\n",
    "concat_train = pd.concat([train, train_one], axis=1)\n",
    "concat_test = pd.concat([test, test_one], axis=1)\n",
    "\n",
    "concat_train = concat_train.drop(['TENURE', 'REGION'], axis = 1)\n",
    "concat_test = concat_test.drop(['TENURE', 'REGION'], axis = 1)\n"
   ]
  },
  {
   "cell_type": "code",
   "execution_count": 84,
   "metadata": {},
   "outputs": [],
   "source": [
    "train = concat_train\n",
    "test = concat_test"
   ]
  },
  {
   "cell_type": "code",
   "execution_count": null,
   "metadata": {},
   "outputs": [],
   "source": [
    "# from sklearn.preprocessing import OneHotEncoder\n",
    "\n",
    "# # enc = OneHotEncoder(handle_unknown='ignore')\n",
    "\n",
    "# drop_enc = OneHotEncoder(drop='first').fit(train[['TENURE', 'REGION']])\n",
    "\n",
    "# one = drop_enc.transform(train[['TENURE', 'REGION']])\n",
    "# one.shape"
   ]
  },
  {
   "cell_type": "markdown",
   "metadata": {},
   "source": [
    "**TARGET VARIABLE**"
   ]
  },
  {
   "cell_type": "code",
   "execution_count": null,
   "metadata": {},
   "outputs": [],
   "source": [
    "# count_no_churn = (train['CHURN'] == 0).sum()\n",
    "# print(\"Number of customers who didn't churn:\",count_no_churn)\n",
    "# count_yes_churn = (train['CHURN']==1).sum()\n",
    "# print(\"Number of customers who churnes:\",count_yes_churn)\n",
    "# pct_of_no_churn = count_no_churn/(count_no_churn+count_yes_churn)\n",
    "# print(\"percentage of customers who didn't churn:\", pct_of_no_churn*100)\n",
    "# pct_of_yes_churn = count_yes_churn/(count_no_churn+count_yes_churn)\n",
    "# print(\"percentage of customers who churned:\", pct_of_yes_churn*100)"
   ]
  },
  {
   "cell_type": "markdown",
   "metadata": {},
   "source": [
    "**BALANCING THE TARGET VARIABLE**\n",
    "\n",
    "As we saw earlier, our target variable IS unbalanced.So I am going to balance the target variable with SMOTE (Synthetic Minority Oversampling Technique). With our training data created, I’ll up-sample minority sample( in our case the 'yes_churn' (customers who churn) sample using the SMOTE algorithm. At a high level, SMOTE:\n",
    "\n",
    "1.Works by creating synthetic samples from the minor class ( yes-churn) instead of creating copies.\n",
    "\n",
    "2.Randomly choosing one of the k-nearest-neighbors and using it to create a similar, but randomly tweaked, new observations."
   ]
  },
  {
   "cell_type": "markdown",
   "metadata": {},
   "source": [
    "**Splitting Dataset**"
   ]
  },
  {
   "cell_type": "code",
   "execution_count": 85,
   "metadata": {},
   "outputs": [
    {
     "name": "stdout",
     "output_type": "stream",
     "text": [
      "Shape of X: (1419875, 34)\n",
      "Shape of y: (1419875, 1)\n"
     ]
    }
   ],
   "source": [
    "from sklearn.model_selection import train_test_split\n",
    "X = train.loc[:, train.columns != 'CHURN']\n",
    "y = train.loc[:, train.columns == 'CHURN']\n",
    "print('Shape of X: {}'.format(X.shape))\n",
    "print('Shape of y: {}'.format(y.shape))\n"
   ]
  },
  {
   "cell_type": "code",
   "execution_count": 87,
   "metadata": {},
   "outputs": [],
   "source": [
    "# from sklearn.preprocessing import StandardScaler\n",
    "# scaler = StandardScaler()\n",
    "# numeric_columns = ['MONTANT', 'FREQUENCE_RECH', 'REVENUE', 'ARPU_SEGMENT', 'FREQUENCE',\\\n",
    "#                    'DATA_VOLUME', 'ON_NET', 'ORANGE', 'TIGO', 'REGULARITY', 'FREQ_TOP_PACK']\n",
    "\n",
    "# X = scaler.fit_transform(X[numeric_columns])\n",
    "# # test_ = scaler.fit_transform(concat_test[numeric_columns])"
   ]
  },
  {
   "cell_type": "code",
   "execution_count": 88,
   "metadata": {},
   "outputs": [
    {
     "name": "stdout",
     "output_type": "stream",
     "text": [
      "Number transactions X_train dataset:  (993912, 11)\n",
      "Number transactions y_train dataset:  (993912, 1)\n",
      "Number transactions X_test dataset:  (425963, 11)\n",
      "Number transactions y_test dataset:  (425963, 1)\n"
     ]
    }
   ],
   "source": [
    "X_train, X_test, y_train, y_test = train_test_split(X, y, test_size=0.3, random_state=0)\n",
    "\n",
    "print(\"Number transactions X_train dataset: \", X_train.shape)\n",
    "print(\"Number transactions y_train dataset: \", y_train.shape)\n",
    "print(\"Number transactions X_test dataset: \", X_test.shape)\n",
    "print(\"Number transactions y_test dataset: \", y_test.shape)"
   ]
  },
  {
   "cell_type": "code",
   "execution_count": 46,
   "metadata": {},
   "outputs": [],
   "source": [
    "# X_train, y_train = X_train[:50000], y_train[:50000]"
   ]
  },
  {
   "cell_type": "code",
   "execution_count": 54,
   "metadata": {},
   "outputs": [
    {
     "data": {
      "text/plain": [
       "(50000, 34)"
      ]
     },
     "execution_count": 54,
     "metadata": {},
     "output_type": "execute_result"
    }
   ],
   "source": [
    "# X_train.shape"
   ]
  },
  {
   "cell_type": "markdown",
   "metadata": {},
   "source": [
    "**Oversamplying minority class with SMOTE**"
   ]
  },
  {
   "cell_type": "code",
   "execution_count": 90,
   "metadata": {},
   "outputs": [
    {
     "name": "stdout",
     "output_type": "stream",
     "text": [
      "After OverSampling, the shape of train_X: (1891438, 11)\n",
      "After OverSampling, the shape of train_y: (1891438, 1) \n",
      "\n",
      "After OverSampling, counts of label '1': CHURN    945719\n",
      "dtype: int64\n",
      "After OverSampling, counts of label '0': CHURN    945719\n",
      "dtype: int64\n"
     ]
    }
   ],
   "source": [
    "sm = SMOTE(random_state=0)\n",
    "X_train_res, y_train_res = sm.fit_sample(X_train, y_train)\n",
    "\n",
    "print('After OverSampling, the shape of train_X: {}'.format(X_train_res.shape))\n",
    "print('After OverSampling, the shape of train_y: {} \\n'.format(y_train_res.shape))\n",
    "\n",
    "print(\"After OverSampling, counts of label '1': {}\".format(np.sum(y_train_res==1)))\n",
    "print(\"After OverSampling, counts of label '0': {}\".format(np.sum(y_train_res==0)))"
   ]
  },
  {
   "cell_type": "markdown",
   "metadata": {},
   "source": [
    "Now we have a perfect balanced data!I only over-sampled on the training data, because by oversampling only on the training data, none of the information in the test data is being used to create synthetic observations, therefore, no information will bleed from test data into the model training."
   ]
  },
  {
   "cell_type": "markdown",
   "metadata": {},
   "source": [
    "**FITTING DIFFERENT MODELS**\n",
    "\n",
    "Loading the Models"
   ]
  },
  {
   "cell_type": "code",
   "execution_count": 35,
   "metadata": {},
   "outputs": [],
   "source": [
    "from sklearn.tree import DecisionTreeClassifier\n",
    "from sklearn.ensemble import RandomForestClassifier\n",
    "from sklearn.model_selection import GridSearchCV"
   ]
  },
  {
   "cell_type": "code",
   "execution_count": null,
   "metadata": {},
   "outputs": [],
   "source": [
    "models = [#('knn', KNN), \n",
    "          #('logistic', LogisticRegression),\n",
    "          ('tree', DecisionTreeClassifier),\n",
    "          ('forest', RandomForestClassifier)\n",
    "         ]\n",
    "\n",
    "param_choices = [\n",
    "#     {\n",
    "#         'n_neighbors': range(1, 12)\n",
    "#     },\n",
    "#     {\n",
    "#         'C': np.logspace(-3,6, 12),\n",
    "#         'penalty': ['l1', 'l2']\n",
    "#     },\n",
    "    {\n",
    "        'max_depth': [1,2,3,4,5],\n",
    "        'min_samples_leaf': [3,6,10]\n",
    "    },\n",
    "    {\n",
    "        'n_estimators': [50, 100, 200],\n",
    "        'max_depth': [1,2,3,4,5],\n",
    "        'min_samples_leaf': [3,6,10]\n",
    "    }\n",
    "]\n",
    "\n",
    "grids = {}\n",
    "for model_info, params in zip(models, param_choices):\n",
    "    name, model = model_info\n",
    "    grid = GridSearchCV(model(), params)\n",
    "    grid.fit(X_train_res, y_train_res)\n",
    "    s = f\"{name}: best score: {grid.best_score_}\"\n",
    "    print(s)\n",
    "    grids[name] = grid"
   ]
  },
  {
   "cell_type": "markdown",
   "metadata": {},
   "source": [
    "**RANDOM FORESTS**\n",
    "\n",
    "**Using Gridsearch to find the best parameters**"
   ]
  },
  {
   "cell_type": "code",
   "execution_count": 56,
   "metadata": {},
   "outputs": [],
   "source": [
    "param_grid = { \n",
    "    'n_estimators': [50, 100, 200],\n",
    "    'max_features': ['auto', 'sqrt', 'log2'],\n",
    "    'max_depth' : [2,4,5,6,7,8],\n",
    "    'criterion' :['gini', 'entropy']\n",
    "}"
   ]
  },
  {
   "cell_type": "code",
   "execution_count": 91,
   "metadata": {},
   "outputs": [
    {
     "data": {
      "text/plain": [
       "RandomForestClassifier(max_depth=8, max_features=6, min_samples_split=3,\n",
       "                       n_estimators=50)"
      ]
     },
     "execution_count": 91,
     "metadata": {},
     "output_type": "execute_result"
    }
   ],
   "source": [
    "# from sklearn.ensemble import RandomForestClassifier\n",
    "# rfc=RandomForestClassifier(random_state=42)\n",
    "\n",
    "# rfc = GridSearchCV(estimator=rfc, param_grid=param_grid, cv= 5)\n",
    "# rfc.fit(X_train_res, y_train_res)\n",
    "\n",
    "RF = RandomForestClassifier(bootstrap=True, class_weight=None, criterion='gini',max_depth=8, max_features=6, max_leaf_nodes=None,min_impurity_decrease=0.0,\n",
    "                            min_impurity_split=None,min_samples_leaf=1, min_samples_split=3,min_weight_fraction_leaf=0.0, n_estimators=50, n_jobs=None,\n",
    "                            oob_score=False, random_state=None, verbose=0,warm_start=False)\n",
    "\n",
    "RF.fit(X_train_res, y_train_res)"
   ]
  },
  {
   "cell_type": "code",
   "execution_count": 75,
   "metadata": {},
   "outputs": [
    {
     "data": {
      "text/plain": [
       "XGBClassifier(gamma=0.01, max_depth=7, min_child_weight=5, n_estimators=20,\n",
       "              silent=True)"
      ]
     },
     "execution_count": 75,
     "metadata": {},
     "output_type": "execute_result"
    }
   ],
   "source": [
    "from xgboost import XGBClassifier\n",
    "# Fit Extreme Gradient Boost Classifier\n",
    "XGB = XGBClassifier(base_score=0.5, booster='gbtree', colsample_bylevel=1,colsample_bytree=1, gamma=0.01, learning_rate=0.1, max_delta_step=0,max_depth=7,\n",
    "                    min_child_weight=5, missing=None, n_estimators=20,n_jobs=1, nthread=None, objective='binary:logistic', random_state=0,reg_alpha=0, \n",
    "                    reg_lambda=1, scale_pos_weight=1, seed=None, silent=True, subsample=1)\n",
    "XGB.fit(X_train_res, y_train_res)"
   ]
  },
  {
   "cell_type": "markdown",
   "metadata": {},
   "source": [
    "**Fitting Randon Forest Model** with best parameters"
   ]
  },
  {
   "cell_type": "code",
   "execution_count": 59,
   "metadata": {},
   "outputs": [],
   "source": [
    "# rfc_best=RandomForestClassifier(random_state=42, max_features='auto', n_estimators= 50, max_depth=8, criterion='gini')"
   ]
  },
  {
   "cell_type": "code",
   "execution_count": 60,
   "metadata": {},
   "outputs": [
    {
     "data": {
      "text/plain": [
       "RandomForestClassifier(max_depth=8, n_estimators=50, random_state=42)"
      ]
     },
     "execution_count": 60,
     "metadata": {},
     "output_type": "execute_result"
    }
   ],
   "source": [
    "# rfc_best.fit(X_train_res, y_train_res)"
   ]
  },
  {
   "cell_type": "code",
   "execution_count": 92,
   "metadata": {},
   "outputs": [],
   "source": [
    "y_pred_rfc=RF.predict(X_test)"
   ]
  },
  {
   "cell_type": "markdown",
   "metadata": {},
   "source": [
    "**Evaluating Random Forest Model**\n"
   ]
  },
  {
   "cell_type": "code",
   "execution_count": 93,
   "metadata": {},
   "outputs": [
    {
     "name": "stdout",
     "output_type": "stream",
     "text": [
      "[[328780  76801]\n",
      " [  5923  14459]]\n"
     ]
    }
   ],
   "source": [
    "from sklearn.metrics import confusion_matrix\n",
    "\n",
    "\n",
    "confusion_matrix_forest = confusion_matrix(y_test, y_pred_rfc)\n",
    "print(confusion_matrix_forest)"
   ]
  },
  {
   "cell_type": "code",
   "execution_count": 72,
   "metadata": {},
   "outputs": [
    {
     "data": {
      "image/png": "[encoded data removed]",
      "text/plain": [
       "<Figure size 504x360 with 2 Axes>"
      ]
     },
     "metadata": {
      "needs_background": "light"
     },
     "output_type": "display_data"
    }
   ],
   "source": [
    "import seaborn as sns\n",
    "\n",
    "#plotting a confusion matrix\n",
    "labels = ['Not Churned', 'Churned']\n",
    "plt.figure(figsize=(7,5))\n",
    "ax= plt.subplot()\n",
    "sns.heatmap(confusion_matrix_forest,cmap=\"Blues\",annot=True,fmt='.1f', ax = ax); #annot=True to annotate cells\n",
    "\n",
    "# labels, title and ticks\n",
    "ax.set_xticklabels(labels)\n",
    "ax.set_yticklabels(labels)\n",
    "ax.set_xlabel('Predicted labels');ax.set_ylabel('True labels'); \n",
    "ax.set_title('Confusion Matrix Random Forests'); "
   ]
  },
  {
   "cell_type": "markdown",
   "metadata": {},
   "source": [
    "**Printing the Classification Report**"
   ]
  },
  {
   "cell_type": "code",
   "execution_count": 94,
   "metadata": {},
   "outputs": [
    {
     "name": "stdout",
     "output_type": "stream",
     "text": [
      "              precision    recall  f1-score   support\n",
      "\n",
      "           0       0.98      0.81      0.89    405581\n",
      "           1       0.16      0.71      0.26     20382\n",
      "\n",
      "    accuracy                           0.81    425963\n",
      "   macro avg       0.57      0.76      0.57    425963\n",
      "weighted avg       0.94      0.81      0.86    425963\n",
      "\n"
     ]
    }
   ],
   "source": [
    "from sklearn.metrics import classification_report\n",
    "print(classification_report(y_test, y_pred_rfc)) "
   ]
  },
  {
   "cell_type": "code",
   "execution_count": 95,
   "metadata": {},
   "outputs": [
    {
     "data": {
      "text/plain": [
       "6.707735527205009"
      ]
     },
     "execution_count": 95,
     "metadata": {},
     "output_type": "execute_result"
    }
   ],
   "source": [
    "from sklearn.metrics import log_loss\n",
    "log_loss(y_test, y_pred_rfc)"
   ]
  },
  {
   "cell_type": "markdown",
   "metadata": {},
   "source": [
    "**Calculating Area Under the Curve**"
   ]
  },
  {
   "cell_type": "code",
   "execution_count": null,
   "metadata": {},
   "outputs": [],
   "source": [
    "from sklearn.metrics import classification_report\n",
    "from sklearn.metrics import roc_auc_score\n",
    "from sklearn.metrics import roc_curve,auc\n",
    "\n",
    "y_pred_rfc=rfc_best.predict(X_test)\n",
    "y_score_rfc = rfc_best.predict_proba(X_test)[:,1]\n",
    "fpr, tpr,_ = roc_curve(y_test, y_score_rfc)\n",
    "roc_auc_forests = auc(fpr, tpr)\n",
    "print(roc_auc_forests)\n",
    "\n"
   ]
  },
  {
   "cell_type": "markdown",
   "metadata": {},
   "source": [
    "**More efficient parameter tuning using GridSearchCV**"
   ]
  },
  {
   "cell_type": "code",
   "execution_count": null,
   "metadata": {},
   "outputs": [],
   "source": [
    "from sklearn.model_selection import GridSearchCV\n",
    "# Setup the hyperparameter grid\n",
    "c_space = np.logspace(-3,6, 12)\n",
    "param_grid = {'C': c_space}\n",
    "\n",
    "# Instantiate a logistic regression classifier: logreg\n",
    "logreg = LogisticRegression()\n",
    "\n",
    "# Instantiate the GridSearchCV object: logreg_cv\n",
    "logreg_cv = GridSearchCV(logreg, param_grid, cv=10)\n",
    "\n",
    "# Fit it to the data\n",
    "best_model = logreg_cv.fit(X_train_res, y_train_res)\n",
    "\n",
    "#examine the best model\n",
    "print(best_model.best_score_)\n",
    "print(best_model.best_params_)\n",
    "print(best_model.best_estimator_)"
   ]
  },
  {
   "cell_type": "markdown",
   "metadata": {},
   "source": [
    "**SVM MODELS**\n",
    "\n",
    "**rbf kernel**"
   ]
  },
  {
   "cell_type": "code",
   "execution_count": null,
   "metadata": {},
   "outputs": [],
   "source": [
    "# Finding best parameters for rbf kernel.\n",
    "from sklearn.model_selection import GridSearchCV\n",
    "from sklearn import svm\n",
    "\n",
    "def svc_param_selection(X, y, nfolds):\n",
    "    Cs = [0.001, 0.01, 0.1, 1, 10]\n",
    "    gammas = [0.001, 0.01, 0.1, 1]\n",
    "    param_grid = {'C': Cs, 'gamma' : gammas}\n",
    "    grid_search = GridSearchCV(svm.SVC(kernel='rbf'), param_grid, cv=nfolds)\n",
    "    grid_search.fit(X, y)\n",
    "    grid_search.best_params_\n",
    "    return grid_search.best_params_\n",
    "\n",
    "svc_param_selection(X_train_res,y_train_res,5)"
   ]
  },
  {
   "cell_type": "code",
   "execution_count": null,
   "metadata": {},
   "outputs": [],
   "source": [
    "model_svm2 = svm.SVC(kernel='rbf', gamma = 0.001) #Gamma is the free parameter of the Gaussian radial basis function.\n",
    "model_svm2.fit(X_train_res, y_train_res)"
   ]
  },
  {
   "cell_type": "code",
   "execution_count": null,
   "metadata": {},
   "outputs": [],
   "source": [
    "# predict out of sample\n",
    "y_pred1 = model_svm2.predict(X_test)"
   ]
  },
  {
   "cell_type": "code",
   "execution_count": null,
   "metadata": {},
   "outputs": [],
   "source": [
    "cm_svm_rbf=confusion_matrix(y_test,y_pred1)\n",
    "print(cm_svm_rbf)"
   ]
  },
  {
   "cell_type": "code",
   "execution_count": null,
   "metadata": {},
   "outputs": [],
   "source": [
    "labels = ['Not Churned', 'Churned']\n",
    "ax= plt.subplot()\n",
    "sns.heatmap(cm_svm_rbf,cmap=\"Blues\", ax = ax); #annot=True to annotate cells\n",
    "\n",
    "# labels, title and ticks\n",
    "ax.set_xticklabels(labels)\n",
    "ax.set_yticklabels(labels)\n",
    "ax.set_xlabel('Predicted labels');ax.set_ylabel('True labels'); \n",
    "ax.set_title('Confusion Matrix SVM ');"
   ]
  },
  {
   "cell_type": "code",
   "execution_count": null,
   "metadata": {},
   "outputs": [],
   "source": [
    "labels = ['Not Churned', 'Churned']\n",
    "plt.figure(figsize=(7,5))\n",
    "ax= plt.subplot()\n",
    "sns.heatmap(cm_knn,cmap=\"Blues\",annot=True,fmt='.1f', ax = ax); #annot=True to annotate cells\n",
    "\n",
    "# labels, title and ticks\n",
    "ax.set_xticklabels(labels)\n",
    "ax.set_yticklabels(labels)\n",
    "ax.set_xlabel('Predicted labels');ax.set_ylabel('True labels'); \n",
    "ax.set_title('Confusion Matrix KNN ');"
   ]
  },
  {
   "cell_type": "markdown",
   "metadata": {},
   "source": [
    "**CALCULATING OPTIMAL THRESHOLD**\n",
    "\n",
    "**Including Cost**"
   ]
  },
  {
   "cell_type": "code",
   "execution_count": null,
   "metadata": {},
   "outputs": [],
   "source": [
    "def makecost(obs,prob,falsepos_cost,falseneg_cost,truepos_cost):\n",
    "    def cost(cutoff):\n",
    "        pred = np.array(prob > cutoff)\n",
    "        fpos = pred * (1 - obs) \n",
    "        fneg = (1 - pred) * obs\n",
    "        tpos=pred*obs\n",
    "        return np.sum(fpos * falsepos_cost + fneg * falseneg_cost+ tpos*truepos_cost)\n",
    "    return np.vectorize(cost)"
   ]
  },
  {
   "cell_type": "code",
   "execution_count": null,
   "metadata": {},
   "outputs": [],
   "source": [
    "cut = np.linspace(0,1,100)\n",
    "cost = np.zeros_like(cut)\n",
    "from sklearn.model_selection import KFold, cross_val_predict\n",
    "obs = np.ravel(y_train)\n",
    "\n",
    "K = 10\n",
    "for j in range(K):\n",
    "    folds = KFold(n_splits=5,shuffle=True)\n",
    "    prob = cross_val_predict(best_lr1,X_train,obs,cv=folds,method='predict_proba',n_jobs=5)[:,1]\n",
    "    getcost = makecost(obs,prob,falsepos_cost=100,falseneg_cost=500,truepos_cost=200)\n",
    "    currentcost = getcost(cut)/X_train.shape[0]\n",
    "    cost += currentcost\n",
    "    plt.plot(cut, currentcost,c='C0',alpha=0.05)\n",
    "cost /= K\n",
    "\n",
    "plt.plot(cut,cost,c='C0')\n",
    "plt.xlabel('cutoff',fontsize = 15)\n",
    "plt.ylabel('Expected cost per data point',labelpad=69,fontsize = 15,rotation=0)\n",
    "plt.title(\"Optimal Threshold\",fontsize=15)\n",
    "despine()"
   ]
  },
  {
   "cell_type": "code",
   "execution_count": null,
   "metadata": {},
   "outputs": [],
   "source": [
    "bestcut = cut[np.argmin(cost)]\n",
    "bestcut"
   ]
  },
  {
   "cell_type": "code",
   "execution_count": null,
   "metadata": {},
   "outputs": [],
   "source": [
    "min(cost)"
   ]
  },
  {
   "cell_type": "markdown",
   "metadata": {},
   "source": [
    "**Finding the tpr and fpr for the optimal threshold**"
   ]
  },
  {
   "cell_type": "code",
   "execution_count": null,
   "metadata": {},
   "outputs": [],
   "source": [
    "\n",
    "pd.set_option('display.max_rows', 500)\n",
    "cutoff_list = pd.DataFrame(np.column_stack([tpr, fpr, thresholds]), \n",
    "                               columns=['tpr', 'fpr', 'thresholds'])\n",
    "cutoff_list"
   ]
  },
  {
   "cell_type": "markdown",
   "metadata": {},
   "source": [
    "**Finding the Optimal Threshold without including cost**"
   ]
  },
  {
   "cell_type": "code",
   "execution_count": null,
   "metadata": {},
   "outputs": [],
   "source": [
    "# print the first 10 predicted probabilities of class membership\n",
    "best_lr1.predict_proba(X_test)[0:10]"
   ]
  },
  {
   "cell_type": "markdown",
   "metadata": {},
   "source": [
    "**Row: observation**\n",
    "\n",
    "Each row, numbers sum to 1\n",
    "\n",
    "**Column: class**\n",
    "\n",
    "2 response classes there 2 columns\n",
    "\n",
    "column 0: predicted probability that each observation is a member of class 0\n",
    "column 1: predicted probability that each observation is a member of class 1\n",
    "\n",
    "**Importance of predicted probabilities**\n",
    "\n",
    "We can rank observations by probability of a customer churning\n",
    "\n",
    "Prioritize contacting those with a higher probability\n",
    "\n",
    "**There is a 0.5 classification threshold**\n",
    "\n",
    "Class 1 is predicted if probability > 0.5\n",
    "\n",
    "Class 0 is predicted if probability < 0.5"
   ]
  },
  {
   "cell_type": "code",
   "execution_count": null,
   "metadata": {},
   "outputs": [],
   "source": [
    "# store the predicted probabilities for class 1 (ie customer will churn)\n",
    "y_pred_prob = best_lr1.predict_proba(X_test)[:, 1]"
   ]
  },
  {
   "cell_type": "code",
   "execution_count": null,
   "metadata": {},
   "outputs": [],
   "source": [
    "#Plot predicted probablities for class1\n",
    "import matplotlib.pyplot as plt\n",
    "\n",
    "plt.rcParams['font.size'] = 12\n",
    "plt.hist(y_pred_prob)\n",
    "\n",
    "# x-axis limit from 0 to 1\n",
    "plt.xlim(0,1)\n",
    "plt.title('Histogram of predicted probabilities')\n",
    "plt.xlabel('Predicted probability of a Customer Churning')\n",
    "plt.ylabel('Frequency')\n",
    "despine()"
   ]
  },
  {
   "cell_type": "markdown",
   "metadata": {},
   "source": [
    "**Observation**\n",
    "\n",
    "1.Most of observations have probability from between 0.1 and 0.2\n",
    "\n",
    "2.Small number of observations with probability > 0.5\n",
    "\n",
    "3.Most would be predicted \"no churners\" in this case\n",
    "\n",
    "**Solution**\n",
    "\n",
    "1.Decrease the threshold for predicting churners\n",
    "\n",
    "2.Increase the sensitivity of the classifier\n",
    "\n",
    "3.This would increase the number of TP\n",
    "\n",
    "4.More sensitive to customers who churn"
   ]
  },
  {
   "cell_type": "code",
   "execution_count": null,
   "metadata": {},
   "outputs": [],
   "source": [
    "# predict churners if the predicted probability is greater than 0.2\n",
    "from sklearn.preprocessing import binarize\n",
    "# it will return 1 for all values above 0.2 and 0 otherwise\n",
    "y_pred_class = binarize([y_pred_prob], 0.4)[0]"
   ]
  },
  {
   "cell_type": "code",
   "execution_count": null,
   "metadata": {},
   "outputs": [],
   "source": [
    "y_pred_prob"
   ]
  },
  {
   "cell_type": "code",
   "execution_count": null,
   "metadata": {},
   "outputs": [],
   "source": [
    "y_pred_class[0:10]"
   ]
  },
  {
   "cell_type": "markdown",
   "metadata": {},
   "source": [
    "**Confusion Matrix with Optimal Threshold**"
   ]
  },
  {
   "cell_type": "code",
   "execution_count": null,
   "metadata": {},
   "outputs": [],
   "source": [
    "from sklearn.metrics import classification_report, confusion_matrix  \n",
    "cm_optimal_threshold=confusion_matrix(y_test, y_pred_class)\n",
    "print(cm_optimal_threshold)"
   ]
  },
  {
   "cell_type": "code",
   "execution_count": null,
   "metadata": {},
   "outputs": [],
   "source": [
    "y_pred_log = best_lr1.predict(X_test)\n",
    "confusion_matrix_log = confusion_matrix(y_test, y_pred_log)\n",
    "print(confusion_matrix_log)"
   ]
  },
  {
   "cell_type": "markdown",
   "metadata": {},
   "source": [
    "**COST EVALUATION**\n",
    "\n",
    "There are costs associated with the model erroneously assigning false positives and false negatives. It is also important to look at similar costs associated with correct predictions of true positives and true negatives. Because the choice of the threshold affects all four of these statistics,it is important to consider the relative costs to the business for each of these four outcomes for each prediction.\n",
    "\n",
    "What are the costs for my problem of customer churn?I will make some assumptions here.\n",
    "\n",
    "**1.** I will assign the **true negatives** the cost of **USD 0**. My model essentially correctly identified a happy customer in this case, and I don’t need to do anything.\n",
    "\n",
    "**2.** **False negatives** are the most problematic, because they incorrectly predict that a churning customer will stay. I will lose the customer and will have to pay all the costs of acquiring a replacement customer, including foregone revenue, advertising costs, administrative costs, point of sale costs. A quick search on the Internet reveals that such costs typically run in the hundreds of dollars so, for the purposes of this post, I will assume **USD 500**. This is the cost of false negatives.\n",
    "\n",
    "**3.** Finally, for customers that my model identifies as churning, I will assume a retention incentive in the amount of **USD 100**.This is the cost of both true positive and false positive outcomes.In the case of false positives (the customer is happy,but the model mistakenly predicted churn),I will “waste” the USD 100 concession.\n",
    "\n",
    "**It’s clear that false negatives are substantially more costly than false positives**. Instead of optimizing for total error, I should be minimizing a cost function that looks like this:\n",
    "\n",
    "500∗FN(C)+0TN(C) + 100∗FP(C)+100TP(C)\n",
    "\n",
    "C:Count"
   ]
  },
  {
   "cell_type": "code",
   "execution_count": null,
   "metadata": {},
   "outputs": [],
   "source": [
    "no_churn = (y_test['Churn'] == 0).sum()\n",
    "yes_churn=(y_test['Churn'] == 1).sum()\n",
    "print(\"Not Churned:\",no_churn)\n",
    "print(\"Yes Churned:\",yes_churn)"
   ]
  },
  {
   "cell_type": "markdown",
   "metadata": {},
   "source": [
    "**Worst Case Scenario** \n",
    "\n",
    "I don't apply any model to predict churn and assume that no customer will churn.But in reality, 555 customers ended up churning.So to maintain my customer base, I would have to spend ($500*555) USD 277,500 ."
   ]
  },
  {
   "cell_type": "markdown",
   "metadata": {},
   "source": [
    "**Best Case Scenario**\n",
    "\n",
    "I have a model that correctly predicts who all will churn and to maintain the customer base, give them concessions ($100).So I would have to spend (555*100) USD 55500"
   ]
  },
  {
   "cell_type": "markdown",
   "metadata": {},
   "source": [
    "**Model Predictions**\n",
    "The models identifies, FN, and TP.So to maintain the current customer base, I would have to spend (116* 500)+(837* 100)=141700.So using a model will save  USD 135,800 in a month.\n"
   ]
  },
  {
   "cell_type": "markdown",
   "metadata": {},
   "source": [
    "**Focussing retention efforts on all customers**\n",
    "I don't apply any model and decide to focus rention efforts on all customers.So I give USD 100 worth of discounts to everyone.I would have to spend (100 * 2110)=211,000.So compared to focusing retention efforts on everyone, implementing the current model would save USD 69300."
   ]
  },
  {
   "cell_type": "markdown",
   "metadata": {},
   "source": [
    "**Graphs Depicting Different Scenarios**"
   ]
  },
  {
   "cell_type": "code",
   "execution_count": null,
   "metadata": {},
   "outputs": [],
   "source": [
    "list_scenarios=['No Model','Discounts to All','Logistic Model','Ideal Model']\n",
    "list_cost=[277500,211000,141700,55500]\n",
    "df_list = pd.DataFrame(\n",
    "    {'Scenario': list_scenarios,\n",
    "     'Cost': list_cost\n",
    "    })"
   ]
  },
  {
   "cell_type": "code",
   "execution_count": null,
   "metadata": {},
   "outputs": [],
   "source": [
    "df_list"
   ]
  },
  {
   "cell_type": "code",
   "execution_count": null,
   "metadata": {},
   "outputs": [],
   "source": [
    "from seaborn import despine\n",
    "\n",
    "sns.set(style=\"whitegrid\")\n",
    "f, ax = plt.subplots(figsize=(6, 6))\n",
    "fig=sns.barplot(x=\"Scenario\", y=\"Cost\", data=df_list,\n",
    "            label=\"Comparision of Business cASES\", color=\"b\")\n",
    "for index, row in df_list.iterrows():\n",
    "    fig.text(row.name,row.Cost, round(row.Cost,2), color='black', ha=\"center\")\n",
    "plt.xlabel(\"Scenarios\",fontsize=15,labelpad=20)\n",
    "plt.ylabel(\"Cost\",rotation=0,labelpad=20,fontsize=15)\n",
    "plt.title(\"Comparisions of Different Business Scenarios\",fontsize=15)\n",
    "despine()"
   ]
  },
  {
   "cell_type": "code",
   "execution_count": null,
   "metadata": {},
   "outputs": [],
   "source": []
  }
 ],
 "metadata": {
  "kernelspec": {
   "display_name": "Python 3",
   "language": "python",
   "name": "python3"
  },
  "language_info": {
   "codemirror_mode": {
    "name": "ipython",
    "version": 3
   },
   "file_extension": ".py",
   "mimetype": "text/x-python",
   "name": "python",
   "nbconvert_exporter": "python",
   "pygments_lexer": "ipython3",
   "version": "3.7.3"
  }
 },
 "nbformat": 4,
 "nbformat_minor": 2
}
